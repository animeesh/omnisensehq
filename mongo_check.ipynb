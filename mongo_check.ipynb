{
 "cells": [
  {
   "cell_type": "code",
   "execution_count": null,
   "metadata": {},
   "outputs": [],
   "source": [
    "\"\"\"python\n",
    "--------------\n",
    "Install your driver\n",
    "Run the following on the command line\n",
    "Note: Use appropriate Python 3 executable\n",
    "-----------------\n",
    "python -m pip install \"pymongo[srv]\"\n",
    "\n",
    "\n",
    "Add your connection string into your application code\n",
    "----------------------------------\n",
    "mongo cred",
    "\n",
    "Sample Code\n",
    "========================\"\"\"\n"
   ]
  },
  {
   "cell_type": "code",
   "execution_count": 1,
   "metadata": {},
   "outputs": [
    {
     "name": "stdout",
     "output_type": "stream",
     "text": [
      "Pinged your deployment. You successfully connected to MongoDB!\n"
     ]
    }
   ],
   "source": [
    "from pymongo.mongo_client import MongoClient\n",
    "from pymongo.server_api import ServerApi\n",
    "uri = \"mongo cred "\n",
    "# Create a new client and connect to the server\n",
    "client = MongoClient(uri, server_api=ServerApi('1'))\n",
    "# Send a ping to confirm a successful connection\n",
    "try:\n",
    "    client.admin.command('ping')\n",
    "    print(\"Pinged your deployment. You successfully connected to MongoDB!\")\n",
    "except Exception as e:\n",
    "    print(e)"
   ]
  },
  {
   "cell_type": "code",
   "execution_count": 3,
   "metadata": {},
   "outputs": [
    {
     "name": "stdout",
     "output_type": "stream",
     "text": [
      "\n",
      "Databases:\n",
      "- omnisens\n",
      "  Collections:\n",
      "   - branch_promotion\n",
      "   - user\n",
      "   - customer_log\n",
      "   - organization\n",
      "   - branch_promotion_redeem\n",
      "   - organization_branch\n",
      "   - comp_vision_data\n",
      "   - animesh\n",
      "   - branch_device\n",
      "   - branch_weather\n",
      "- sample_mflix\n",
      "  Collections:\n",
      "   - embedded_movies\n",
      "   - theaters\n",
      "   - sessions\n",
      "   - comments\n",
      "   - users\n",
      "   - movies\n",
      "- admin\n",
      "  Collections:\n",
      "- local\n",
      "  Collections:\n",
      "   - oplog.rs\n"
     ]
    }
   ],
   "source": [
    "#check all the collections in the database  \n",
    "\n",
    "from pymongo.mongo_client import MongoClient\n",
    "from pymongo.server_api import ServerApi\n",
    "uri = \"mongo cred "\n",
    "# Create a new client and connect to the server\n",
    "client = MongoClient(uri, server_api=ServerApi('1'))\n",
    "# Send a ping to confirm a successful connection\n",
    "try:\n",
    "    # Confirm connection\n",
    "    client.admin.command('ping')\n",
    "    #print(\"Pinged your deployment. You successfully connected to MongoDB!\")\n",
    "\n",
    "    # List all databases\n",
    "    print(\"\\nDatabases:\")\n",
    "    for db_name in client.list_database_names():\n",
    "        print(f\"- {db_name}\")\n",
    "        \n",
    "        # For each database, list its collections\n",
    "        db = client[db_name]\n",
    "        print(\"  Collections:\")\n",
    "        for coll_name in db.list_collection_names():\n",
    "            print(f\"   - {coll_name}\")\n",
    "except Exception as e:\n",
    "    print(e)    "
   ]
  },
  {
   "cell_type": "code",
   "execution_count": 7,
   "metadata": {},
   "outputs": [
    {
     "name": "stdout",
     "output_type": "stream",
     "text": [
      "Pinged your deployment. Connected to MongoDB!\n",
      "\n",
      "All documents in 'comp_vision_data':\n",
      "{'_id': ObjectId('68545b6b582eb5bcd7656d5a'), 'age': 29, 'gender': 'M', 'ageconf': 0.8534979625387571, 'genderconf': 0.8328261307539738, 'time': '00:18:11', 'date': '2025-06-20'}\n",
      "{'_id': ObjectId('68545b70582eb5bcd7656d5b'), 'age': 29, 'gender': 'M', 'ageconf': 0.8666167594687666, 'genderconf': 0.814723394139044, 'time': '00:18:16', 'date': '2025-06-20'}\n",
      "{'_id': ObjectId('68545b78582eb5bcd7656d5c'), 'age': 29, 'gender': 'F', 'ageconf': 0.9375788480323415, 'genderconf': 0.837398931338907, 'time': '00:18:24', 'date': '2025-06-20'}\n",
      "\n",
      "Total documents in 'comp_vision_data': 3\n"
     ]
    }
   ],
   "source": [
    "\n",
    "try:\n",
    "    # Confirm connection\n",
    "    client.admin.command('ping')\n",
    "    print(\"Pinged your deployment. Connected to MongoDB!\")\n",
    "\n",
    "    # Select the database and collection\n",
    "    db = client[\"omnisens\"]\n",
    "    collection = db[\"comp_vision_data\"]\n",
    "\n",
    "    # Fetch one sample document\n",
    "    sample_doc = collection.find()\n",
    "    print(\"\\nAll documents in 'comp_vision_data':\")\n",
    "    for doc in sample_doc:\n",
    "        print(doc)\n",
    "\n",
    "\n",
    "    # If you want to count documents\n",
    "    count = collection.count_documents({})\n",
    "    print(f\"\\nTotal documents in 'comp_vision_data': {count}\")\n",
    "\n",
    "except Exception as e:\n",
    "    print(\"Error:\", e)"
   ]
  },
  {
   "cell_type": "code",
   "execution_count": 29,
   "metadata": {},
   "outputs": [
    {
     "name": "stdout",
     "output_type": "stream",
     "text": [
      "last_doc {'_id': ObjectId('68545b78582eb5bcd7656d5c'), 'age': 29, 'gender': 'F', 'ageconf': 0.9375788480323415, 'genderconf': 0.837398931338907, 'time': '00:18:24', 'date': '2025-06-20'}\n",
      "Formatted result: {'_id': '68545b78582eb5bcd7656d5c', 'age': 29, 'gender': 'F', 'mood': 'happy', 'conf': 0.837398931338907, 'time': '00:18:24', 'date': '2025-06-20'}\n"
     ]
    },
    {
     "data": {
      "text/plain": [
       "{'_id': '68545b78582eb5bcd7656d5c',\n",
       " 'age': 29,\n",
       " 'gender': 'F',\n",
       " 'mood': 'happy',\n",
       " 'conf': 0.837398931338907,\n",
       " 'time': '00:18:24',\n",
       " 'date': '2025-06-20'}"
      ]
     },
     "execution_count": 29,
     "metadata": {},
     "output_type": "execute_result"
    }
   ],
   "source": [
    "from pymongo import MongoClient\n",
    "from pymongo.server_api import ServerApi\n",
    "\n",
    "def db_cv():\n",
    "    \"\"\"Fetch and return the last detection entry from MongoDB.\"\"\"\n",
    "    try:\n",
    "        uri = \"mongo cred "\n",
    "        client = MongoClient(uri, server_api=ServerApi('1'))\n",
    "\n",
    "        db = client[\"omnisens\"]\n",
    "        collection = db[\"comp_vision_data\"]\n",
    "\n",
    "        # Get the last inserted document (sorted by _id or timestamp descending)\n",
    "        last_doc = collection.find_one(sort=[('_id', -1)])\n",
    "        print(\"last_doc\", last_doc)\n",
    "\n",
    "        if last_doc:\n",
    "            result = {\n",
    "                \"_id\": str(last_doc.get(\"_id\")),               # Convert ObjectId to str\n",
    "                \"age\": last_doc.get(\"age\"),\n",
    "                \"gender\": last_doc.get(\"gender\"),\n",
    "                \"mood\": \"happy\",                               # Static for now\n",
    "                \"conf\": last_doc.get(\"genderconf\"),\n",
    "                \"time\": last_doc.get(\"time\"),\n",
    "                \"date\": last_doc.get(\"date\")\n",
    "            }\n",
    "            print(\"Formatted result:\", result)\n",
    "        return result\n",
    "\n",
    "\n",
    "    except Exception as e:\n",
    "        print(f\"MongoDB error: {e}\")\n",
    "        return None\n",
    "    \n",
    "db_cv()"
   ]
  },
  {
   "cell_type": "code",
   "execution_count": 1,
   "metadata": {},
   "outputs": [],
   "source": [
    "import requests\n",
    "from datetime import datetime\n",
    "\n",
    "\n",
    "#weather cred\n",
    "api = \"api cred "\n",
    "URL = f\"http://api.worldweatheronline.com/premium/v1/weather.ashx\"\n",
    "\n"
   ]
  },
  {
   "cell_type": "code",
   "execution_count": 27,
   "metadata": {},
   "outputs": [],
   "source": [
    "def getweather(CITY):\n",
    "    params = {\n",
    "    \"key\": api,\n",
    "    \"q\": CITY,\n",
    "    \"format\": \"json\",\n",
    "    \"num_of_days\": 0,\n",
    "    \"cc\": \"yes\"  # current conditions\n",
    "}\n",
    "    response = requests.get(URL, params=params)\n",
    "    data = response.json()\n",
    "\n",
    "    # Extract current weather\n",
    "    current = data['data']['current_condition'][0]\n",
    "    temp_C = current['temp_C']\n",
    "    weather_desc = current['weatherDesc'][0]['value']\n",
    "    Temp_in_c= int(temp_C)\n",
    "    weather = weather_desc\n",
    "    print(f\"🌡️ Temperature: {temp_C}°C\")\n",
    "    print(f\"🌤️ Weather: {weather_desc}\")\n",
    "\n",
    "    return {\"Temp\":Temp_in_c,\n",
    "            \"Weather\":weather}"
   ]
  },
  {
   "cell_type": "code",
   "execution_count": 28,
   "metadata": {},
   "outputs": [
    {
     "name": "stdout",
     "output_type": "stream",
     "text": [
      "🌡️ Temperature: 29°C\n",
      "🌤️ Weather: Mist, Rain Shower\n"
     ]
    },
    {
     "data": {
      "text/plain": [
       "{'Temp': 29, 'Weather': ['Mist, Rain Shower']}"
      ]
     },
     "execution_count": 28,
     "metadata": {},
     "output_type": "execute_result"
    }
   ],
   "source": [
    "getweather(\"mumbai\")"
   ]
  },
  {
   "cell_type": "code",
   "execution_count": 20,
   "metadata": {},
   "outputs": [],
   "source": [
    "#lets have 29 insteed of ('29',)\n",
    "params = {\n",
    "    \"key\": api,\n",
    "    \"q\": \"mumbai\",\n",
    "    \"format\": \"json\",\n",
    "    \"num_of_days\": 0,\n",
    "    \"cc\": \"yes\"  # current conditions\n",
    "}\n",
    "response = requests.get(URL, params=params)\n",
    "data = response.json()\n",
    "current = data['data']['current_condition'][0]\n",
    "temp_C = current['temp_C']"
   ]
  },
  {
   "cell_type": "code",
   "execution_count": 22,
   "metadata": {},
   "outputs": [
    {
     "data": {
      "text/plain": [
       "29"
      ]
     },
     "execution_count": 22,
     "metadata": {},
     "output_type": "execute_result"
    }
   ],
   "source": [
    "int(temp_C)"
   ]
  },
  {
   "cell_type": "code",
   "execution_count": null,
   "metadata": {},
   "outputs": [],
   "source": []
  },
  {
   "cell_type": "code",
   "execution_count": null,
   "metadata": {},
   "outputs": [],
   "source": []
  }
 ],
 "metadata": {
  "kernelspec": {
   "display_name": "omnisense",
   "language": "python",
   "name": "python3"
  },
  "language_info": {
   "codemirror_mode": {
    "name": "ipython",
    "version": 3
   },
   "file_extension": ".py",
   "mimetype": "text/x-python",
   "name": "python",
   "nbconvert_exporter": "python",
   "pygments_lexer": "ipython3",
   "version": "3.13.2"
  }
 },
 "nbformat": 4,
 "nbformat_minor": 2
}
